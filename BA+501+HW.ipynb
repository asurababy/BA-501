{
 "cells": [
  {
   "cell_type": "code",
   "execution_count": 1,
   "metadata": {
    "collapsed": false
   },
   "outputs": [
    {
     "name": "stdout",
     "output_type": "stream",
     "text": [
      "hello world\n"
     ]
    }
   ],
   "source": [
    "print \"hello world\""
   ]
  },
  {
   "cell_type": "code",
   "execution_count": 2,
   "metadata": {
    "collapsed": true
   },
   "outputs": [],
   "source": [
    "import numpy as np"
   ]
  },
  {
   "cell_type": "code",
   "execution_count": 3,
   "metadata": {
    "collapsed": true
   },
   "outputs": [],
   "source": [
    "import pandas as pd"
   ]
  },
  {
   "cell_type": "code",
   "execution_count": null,
   "metadata": {
    "collapsed": true
   },
   "outputs": [],
   "source": [
    "# Q1.How do you handle duplicate values in a dataset in Python?\n",
    "# Identify duplicates records in the data\n",
    "dupes=my_data.duplicated()\n",
    "sum(dupes)\n",
    "\n",
    "# Removing duplicates\n",
    "my_data_uniq=my_data.drop_duplicates()"
   ]
  },
  {
   "cell_type": "code",
   "execution_count": null,
   "metadata": {
    "collapsed": true
   },
   "outputs": [],
   "source": [
    "# Q2. You are given two tables\n",
    "# SQL\n",
    "\n",
    "SELECT COUNT(r.requester_id) as Num_of_acceptance\n",
    "FROM friend_request r LEFT JOIN request_accepted a on r.requester_id=a.requester_id\n",
    "WHERE a.time and a.acceptor_id IS NOT NULL\n",
    "GROUP BY r.requester_id\n",
    "\n",
    "SELECT COUNT(requester_id) as Total_num_of_application\n",
    "FROM friend_request\n",
    "WHERE time and sent_to_id IS NOT NULL\n",
    "\n",
    "overall acceptance rate = Num_of_acceptance/Total_num_of_application\n",
    "\n",
    "# Python\n",
    "\n",
    "successful_acceptance_table=pd.merge(friend_request,request_accepted\n",
    "        how=\"Inner\",on=\"requester_id\")\n",
    "    # how many rows in this table\n",
    "successful_acceptance_table.shape()\n",
    "    # Num_of_acceptance= number of rows from above result\n",
    "    # Total_num_of_application\n",
    "friend_request[[\"request_id\"]].count()\n",
    "\n",
    "overall acceptance rate = Num_of_acceptance/Total_num_of_application\n"
   ]
  },
  {
   "cell_type": "code",
   "execution_count": null,
   "metadata": {
    "collapsed": true
   },
   "outputs": [],
   "source": [
    "# Q3. business model of your dream company\n",
    "\n",
    "# Amazon.com\n",
    "\n",
    "# What is the product?\n",
    "# media, apparel, baby products, consumer electronics, beauty products,gourmet food, groceries, health and personal-care items\n",
    "# Services including:  AmazonFresh, Amazon Prime, Amazon Web Services\n",
    "\n",
    "# Who are the customer\n",
    "# Anyone who wants to buy things online\n",
    "\n",
    "# How do they make money\n",
    "# General retail sales, third party sellers, Amazon Web Services, prime membership subscription\n",
    "\n",
    "# Why do you want to work for this company?\n",
    "# In my mind, Amazon.com is more than an e-commerce company, it is an information technology company that contribute to develop \n",
    "#high-tech. I read the news about the \"Amazon Go\", and I was hoping to work for this fast-growing and creative company.\n",
    "\n"
   ]
  },
  {
   "cell_type": "code",
   "execution_count": 4,
   "metadata": {
    "collapsed": true
   },
   "outputs": [],
   "source": [
    "from IPython.display import display\n",
    "from IPython.display import HTML\n",
    "import IPython.core.display as di"
   ]
  },
  {
   "cell_type": "code",
   "execution_count": 5,
   "metadata": {
    "collapsed": true
   },
   "outputs": [],
   "source": [
    "import scipy"
   ]
  },
  {
   "cell_type": "code",
   "execution_count": 9,
   "metadata": {
    "collapsed": false
   },
   "outputs": [
    {
     "data": {
      "text/html": [
       "<div>\n",
       "<table border=\"1\" class=\"dataframe\">\n",
       "  <thead>\n",
       "    <tr style=\"text-align: right;\">\n",
       "      <th></th>\n",
       "      <th>country</th>\n",
       "      <th>date</th>\n",
       "      <th>experiment_id</th>\n",
       "      <th>order_id</th>\n",
       "      <th>spend_usd</th>\n",
       "      <th>user_id</th>\n",
       "      <th>vertical</th>\n",
       "    </tr>\n",
       "  </thead>\n",
       "  <tbody>\n",
       "    <tr>\n",
       "      <th>0</th>\n",
       "      <td>US</td>\n",
       "      <td>2017-04-02</td>\n",
       "      <td>12624549</td>\n",
       "      <td>6720123150182430132</td>\n",
       "      <td>49.99</td>\n",
       "      <td>3659561261588336546</td>\n",
       "      <td>ANDROID_APPS</td>\n",
       "    </tr>\n",
       "    <tr>\n",
       "      <th>1</th>\n",
       "      <td>US</td>\n",
       "      <td>2017-04-01</td>\n",
       "      <td>12624549</td>\n",
       "      <td>17511438899767627798</td>\n",
       "      <td>0.99</td>\n",
       "      <td>3659561261588336546</td>\n",
       "      <td>ANDROID_APPS</td>\n",
       "    </tr>\n",
       "    <tr>\n",
       "      <th>2</th>\n",
       "      <td>US</td>\n",
       "      <td>2017-04-04</td>\n",
       "      <td>12624549</td>\n",
       "      <td>1549342062436664018</td>\n",
       "      <td>39.99</td>\n",
       "      <td>3659561261588336546</td>\n",
       "      <td>ANDROID_APPS</td>\n",
       "    </tr>\n",
       "    <tr>\n",
       "      <th>3</th>\n",
       "      <td>US</td>\n",
       "      <td>2017-04-04</td>\n",
       "      <td>12624549</td>\n",
       "      <td>7771425263197855716</td>\n",
       "      <td>19.99</td>\n",
       "      <td>3659561261588336546</td>\n",
       "      <td>ANDROID_APPS</td>\n",
       "    </tr>\n",
       "    <tr>\n",
       "      <th>4</th>\n",
       "      <td>US</td>\n",
       "      <td>2017-04-01</td>\n",
       "      <td>12624549</td>\n",
       "      <td>17943210556580942992</td>\n",
       "      <td>19.99</td>\n",
       "      <td>3659561261588336546</td>\n",
       "      <td>ANDROID_APPS</td>\n",
       "    </tr>\n",
       "  </tbody>\n",
       "</table>\n",
       "</div>"
      ],
      "text/plain": [
       "  country        date  experiment_id              order_id  spend_usd  \\\n",
       "0      US  2017-04-02       12624549   6720123150182430132      49.99   \n",
       "1      US  2017-04-01       12624549  17511438899767627798       0.99   \n",
       "2      US  2017-04-04       12624549   1549342062436664018      39.99   \n",
       "3      US  2017-04-04       12624549   7771425263197855716      19.99   \n",
       "4      US  2017-04-01       12624549  17943210556580942992      19.99   \n",
       "\n",
       "               user_id      vertical  \n",
       "0  3659561261588336546  ANDROID_APPS  \n",
       "1  3659561261588336546  ANDROID_APPS  \n",
       "2  3659561261588336546  ANDROID_APPS  \n",
       "3  3659561261588336546  ANDROID_APPS  \n",
       "4  3659561261588336546  ANDROID_APPS  "
      ]
     },
     "execution_count": 9,
     "metadata": {},
     "output_type": "execute_result"
    }
   ],
   "source": [
    "file_location = \"/Users/Owner/Desktop/\"\n",
    "file_name = \"orders_new.csv\"\n",
    "my_data = pd.read_csv(file_location + file_name)\n",
    "\n",
    "my_data.head(5)"
   ]
  },
  {
   "cell_type": "code",
   "execution_count": 10,
   "metadata": {
    "collapsed": true
   },
   "outputs": [],
   "source": [
    "import matplotlib.pyplot as plt\n",
    "%matplotlib inline"
   ]
  },
  {
   "cell_type": "code",
   "execution_count": 11,
   "metadata": {
    "collapsed": false
   },
   "outputs": [
    {
     "data": {
      "text/plain": [
       "array([12624548, 12624549], dtype=int64)"
      ]
     },
     "execution_count": 11,
     "metadata": {},
     "output_type": "execute_result"
    }
   ],
   "source": [
    "# experiment_id\n",
    "a = my_data.experiment_id\n",
    "np.unique(a)"
   ]
  },
  {
   "cell_type": "code",
   "execution_count": 16,
   "metadata": {
    "collapsed": true
   },
   "outputs": [],
   "source": [
    "# for any given experiment_id, return a list group by date\n",
    "def GetSeries(my_data, my_id):\n",
    "    table = my_data[[\"date\", \"spend_usd\"]][my_data.experiment_id == my_id]\n",
    "    series = table.groupby('date')['spend_usd'].sum()\n",
    "    return(series)"
   ]
  },
  {
   "cell_type": "code",
   "execution_count": 17,
   "metadata": {
    "collapsed": false
   },
   "outputs": [
    {
     "name": "stdout",
     "output_type": "stream",
     "text": [
      "date\n",
      "2017-04-01    55504.518743\n",
      "2017-04-02    31317.138253\n",
      "2017-04-03    31583.940583\n",
      "2017-04-04    23615.742230\n",
      "2017-04-05    30899.812674\n",
      "2017-04-06    27768.181870\n",
      "2017-04-07    32957.001652\n",
      "Name: spend_usd, dtype: float64\n",
      "date\n",
      "2017-04-01    54019.941288\n",
      "2017-04-02    34642.988992\n",
      "2017-04-03    28645.762133\n",
      "2017-04-04    27604.259313\n",
      "2017-04-05    33149.441763\n",
      "2017-04-06    29310.726245\n",
      "2017-04-07    34640.122009\n",
      "Name: spend_usd, dtype: float64\n"
     ]
    }
   ],
   "source": [
    "# test if this works\n",
    "red = GetSeries(my_data, 12624548)\n",
    "blue = GetSeries(my_data, 12624549)\n",
    "print(red)\n",
    "print(blue)"
   ]
  },
  {
   "cell_type": "code",
   "execution_count": null,
   "metadata": {
    "collapsed": true
   },
   "outputs": [],
   "source": []
  }
 ],
 "metadata": {
  "kernelspec": {
   "display_name": "Python 2",
   "language": "python",
   "name": "python2"
  },
  "language_info": {
   "codemirror_mode": {
    "name": "ipython",
    "version": 2
   },
   "file_extension": ".py",
   "mimetype": "text/x-python",
   "name": "python",
   "nbconvert_exporter": "python",
   "pygments_lexer": "ipython2",
   "version": "2.7.13"
  }
 },
 "nbformat": 4,
 "nbformat_minor": 2
}
